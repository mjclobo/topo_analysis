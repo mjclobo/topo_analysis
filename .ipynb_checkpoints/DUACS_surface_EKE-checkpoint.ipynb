{
 "cells": [
  {
   "cell_type": "code",
   "execution_count": 1,
   "id": "a7541472-bd07-41e4-9279-9fb7e794a0fc",
   "metadata": {},
   "outputs": [],
   "source": [
    "import numpy as np\n",
    "\n",
    "# xarray is used to read and plot the downloaded NetCDF files\n",
    "import xarray as xr\n",
    "import netCDF4\n",
    "import sys\n",
    "\n",
    "import matplotlib.pyplot as plt\n",
    "import glob, os\n",
    "\n",
    "import metpy, pint\n",
    "\n",
    "from global_land_mask import globe\n"
   ]
  },
  {
   "cell_type": "code",
   "execution_count": 2,
   "id": "b7e423c3-7bb7-4469-a624-cdb6835a2bf8",
   "metadata": {},
   "outputs": [],
   "source": [
    "import numpy as np\n",
    "import pandas as pd\n",
    "import requests\n",
    "import shutil\n",
    "import time as time\n",
    "from os.path import join,expanduser\n",
    "user_home_dir = expanduser('~')\n",
    "\n",
    "# xarray is used to read and plot the downloaded NetCDF files\n",
    "import xarray as xr\n",
    "import sys\n",
    "\n",
    "import matplotlib.pyplot as plt\n",
    "\n",
    "# for concurrent simultaneous downloads\n",
    "from concurrent.futures import ThreadPoolExecutor\n",
    "from getpass import getpass\n",
    "from http.cookiejar import CookieJar\n",
    "from io import StringIO\n",
    "from itertools import repeat\n",
    "from pathlib import Path\n",
    "from platform import system\n",
    "from netrc import netrc\n",
    "from os.path import basename, isfile, isdir\n",
    "# progress bar\n",
    "from tqdm import tqdm\n",
    "# library to download files\n",
    "from urllib import request\n",
    "\n",
    "import glob, os\n",
    "\n",
    "# Predict the path of the netrc file depending on os/platform type.\n",
    "_netrc = join(user_home_dir, \"_netrc\" if system()==\"Windows\" else \".netrc\")\n",
    "\n",
    "# load the ecco_v4_py package\n",
    "# here is is assumed to be installed in /home/user/ECCOv4-py\n",
    "# change as needed for your setup\n",
    "sys.path.append(join(user_home_dir,'ECCOv4-py'))\n",
    "import ecco_v4_py as ecco\n",
    "\n",
    "# from ecco_v4_py import *"
   ]
  },
  {
   "cell_type": "code",
   "execution_count": 5,
   "id": "0a5edcdd-f6e8-4e51-80e3-6138c2285340",
   "metadata": {},
   "outputs": [],
   "source": [
    "DUACS_mo_dir = \"/scratch/cimes/ml1994/global_topo_analysis/data/AVISO/SEALEVEL_GLO_PHY_L4_MY_008_047/cmems_obs-sl_glo_phy-ssh_my_allsat-l4-duacs-0.125deg_P1M-m_202411/\"\n",
    "DUACS_day_dir = '/scratch/cimes/ml1994/global_topo_analysis/data/AVISO/SEALEVEL_GLO_PHY_L4_MY_008_047/cmems_obs-sl_glo_phy-ssh_my_allsat-l4-duacs-0.125deg_P1D_202411/'\n",
    "\n",
    "os.chdir(DUACS_day_dir)\n",
    "DUACS_yrs = np.sort(os.listdir()) +'/'\n",
    "\n",
    "DUACS_ex_mo = np.sort(os.listdir(DUACS_yrs[-1]+'/'))\n",
    "\n",
    "DUACS_ex_day = np.sort(os.listdir(DUACS_yrs[-1]+'/'+DUACS_ex_mo[-1]+'/'))\n",
    "\n",
    "DUACS_file = DUACS_ex_day[0];\n",
    "\n",
    "DUACS_ex = xr.open_dataset(DUACS_day_dir + DUACS_yrs[-1] +'/'+DUACS_ex_mo[-1]+'/' + DUACS_file, engine=\"netcdf4\")\n"
   ]
  },
  {
   "cell_type": "code",
   "execution_count": 18,
   "id": "eab3e748-e98e-4865-b98e-3ff7b932110c",
   "metadata": {},
   "outputs": [],
   "source": [
    "a = DUACS_ex.ugosa.copy(deep=True)\n",
    "\n",
    "a.data = np.zeros_like(a.data)"
   ]
  },
  {
   "cell_type": "code",
   "execution_count": 45,
   "id": "2257f44c-731e-4c98-99ae-fa85fd5b220f",
   "metadata": {},
   "outputs": [],
   "source": [
    "import datetime\n",
    "\n",
    "def define_MEKE(DUACS_ex):\n",
    "    os.chdir(DUACS_day_dir)\n",
    "\n",
    "    MEKE = DUACS_ex.ugosa.copy(deep=True)\n",
    "    MEKE.data = np.zeros_like(MEKE.data)\n",
    "\n",
    "    count = 0\n",
    "    \n",
    "    DUACS_yrs = np.sort(os.listdir()) +'/'\n",
    "    for yr in DUACS_yrs:\n",
    "        print(yr)\n",
    "        print(datetime.datetime.now())\n",
    "        DUACS_mos = np.sort(os.listdir(yr+'/'))\n",
    "        for mo in DUACS_mos:\n",
    "            DUACS_days = np.sort(os.listdir(yr+'/'+mo+'/'))\n",
    "            for day in DUACS_days:\n",
    "                DUACS_data = xr.open_dataset(DUACS_day_dir + yr +'/' + mo +'/' + day, engine=\"netcdf4\")\n",
    "\n",
    "                MEKE.data += 0.5 * (DUACS_data.ugosa**2 + DUACS_data.vgosa**2)\n",
    "\n",
    "                count+=1\n",
    "\n",
    "    MEKE.data = MEKE.data / count\n",
    "\n",
    "    return MEKE\n",
    "                \n"
   ]
  },
  {
   "cell_type": "code",
   "execution_count": null,
   "id": "7edbd016-5cd9-450c-987a-053701b7e741",
   "metadata": {},
   "outputs": [
    {
     "name": "stdout",
     "output_type": "stream",
     "text": [
      "1993/\n",
      "2025-02-14 16:05:40.270661\n"
     ]
    }
   ],
   "source": [
    "MEKE = define_MEKE(DUACS_ex)"
   ]
  },
  {
   "cell_type": "code",
   "execution_count": null,
   "id": "027f00c1-f2af-440e-9778-12a239b3b669",
   "metadata": {},
   "outputs": [],
   "source": [
    "dir_path = '/scratch/cimes/ml1994/global_topo_analysis/data/AVISO/'\n",
    "MEKE.to_netcdf(path=dir_path + 'MEKE_1992_to_2023.nc')"
   ]
  },
  {
   "cell_type": "code",
   "execution_count": null,
   "id": "0daff2b8-86db-4dab-a26f-d2ed69af087e",
   "metadata": {},
   "outputs": [],
   "source": []
  },
  {
   "cell_type": "code",
   "execution_count": null,
   "id": "1bab9981-6baa-42bd-982a-2613d907088a",
   "metadata": {},
   "outputs": [],
   "source": [
    "pc1 = plt.pcolormesh(MEKE.longitude.data, MEKE.latitude.data, MEKE.data[0,:,:])\n",
    "\n",
    "plt.colorbar(pc1)"
   ]
  },
  {
   "cell_type": "code",
   "execution_count": null,
   "id": "88385de0-96fa-4f8a-be14-5a098fe218df",
   "metadata": {},
   "outputs": [],
   "source": []
  },
  {
   "cell_type": "code",
   "execution_count": null,
   "id": "0132608c-7a2d-47a7-b2dd-48e9a640a0be",
   "metadata": {},
   "outputs": [],
   "source": []
  }
 ],
 "metadata": {
  "kernelspec": {
   "display_name": "Python [conda env:.conda-GEBCO_ECCO_env] *",
   "language": "python",
   "name": "conda-env-.conda-GEBCO_ECCO_env-py"
  },
  "language_info": {
   "codemirror_mode": {
    "name": "ipython",
    "version": 3
   },
   "file_extension": ".py",
   "mimetype": "text/x-python",
   "name": "python",
   "nbconvert_exporter": "python",
   "pygments_lexer": "ipython3",
   "version": "3.13.1"
  }
 },
 "nbformat": 4,
 "nbformat_minor": 5
}
